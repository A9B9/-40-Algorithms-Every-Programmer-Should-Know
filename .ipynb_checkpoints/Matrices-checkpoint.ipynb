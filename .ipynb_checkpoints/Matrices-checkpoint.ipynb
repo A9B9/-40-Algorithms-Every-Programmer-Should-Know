{
 "cells": [
  {
   "cell_type": "markdown",
   "metadata": {},
   "source": [
    "Matrix Algorithms , Operations  and Properties "
   ]
  },
  {
   "cell_type": "code",
   "execution_count": null,
   "metadata": {},
   "outputs": [],
   "source": [
    "# Computing an approximation for the logrihtm function value(ceiling),that is used for algorithm analysis purpose , (log^b n)\n",
    "def ceil_log(b:int, n:int, c = 0) -> int:\n",
    "    if n != 1:\n",
    "        return ceil_log(b, n // b, c + 1)\n",
    "    return c\n",
    "\n",
    "print(ceil_log(2, 12))"
   ]
  },
  {
   "cell_type": "code",
   "execution_count": null,
   "metadata": {},
   "outputs": [],
   "source": [
    "from time import time_ns\n",
    "from random import randint\n",
    "\n",
    "# find Transpose of a Matrix \n",
    "def transpose(m: list) -> list:\n",
    "    for i in range(len(m)):\n",
    "        for j in range(i):\n",
    "            temp = m[i][j]\n",
    "            m[i][j] = m[j][i]\n",
    "            m[j][i] = temp\n",
    "    return m\n",
    "\n",
    "\n",
    "A = [[randint(1,5) for i in range(5)] for j in range(5)]\n",
    "print(A)\n",
    "start = time_ns()\n",
    "print(transpose(A))\n",
    "end = time_ns()\n",
    "print(\"Time elpsed : {}\".format(end - start))"
   ]
  },
  {
   "cell_type": "code",
   "execution_count": null,
   "metadata": {},
   "outputs": [],
   "source": [
    "# multiplication\n",
    "def mul(m: list, n: list) -> list:\n",
    "    \n",
    "    cols = len(n[len(n) - 1])\n",
    "    rows = len(m)\n",
    "    if cols == rows:\n",
    "        r = [[0 for i in range(rows)] for j in range(cols)]\n",
    "        for i in range(rows):\n",
    "            for j in range(rows):\n",
    "                for k in range(rows):\n",
    "                    r[i][j] += m[i][k] * n[k][j]\n",
    "        return r       "
   ]
  },
  {
   "cell_type": "markdown",
   "metadata": {},
   "source": [
    "Kronecker Product of two matrices"
   ]
  },
  {
   "cell_type": "code",
   "execution_count": null,
   "metadata": {},
   "outputs": [],
   "source": [
    "def k_multiplication(m, n):\n",
    "    ra = len(m)\n",
    "    ca = len(m[len(m) - 1])\n",
    "    rb = len(m)\n",
    "    cb = len(m[len(m) - 1])\n",
    "    c = [[0 for i in range(ca * cb)] for i in range( ra * rb)]\n",
    "    \n",
    "    for i in range(ra):\n",
    "        for j in range(rb):\n",
    "            for k in range(ca):\n",
    "                for l in range(cb):\n",
    "                    c[i + l + i][j + k + 1] = m[i][j] * n[k][l]\n",
    "                    print(c[ i + l + 1][j + k + 1], end='')\n",
    "            print('\\n')"
   ]
  },
  {
   "cell_type": "code",
   "execution_count": null,
   "metadata": {},
   "outputs": [],
   "source": [
    "# Matrix addtion\n",
    "def add (m, n):\n",
    "    c1,c2,r1,r2 = len(m[len(m) -1]), len(m[len(m) -1]), len(m),len(n)\n",
    "    if (c1 == c2 and r1 == r2):\n",
    "        C = [[0 for i in range(c1)] for j in range(r1)]\n",
    "        for i in range(r1):\n",
    "            for j in range(c1):\n",
    "                c[i][j] = m[i][j] + n[i][j]\n",
    "    return C\n",
    "                "
   ]
  },
  {
   "cell_type": "code",
   "execution_count": null,
   "metadata": {},
   "outputs": [],
   "source": [
    "def sort_row(m):\n",
    "    for  i in range(len(m)):\n",
    "        m[i] = sort(m[i])\n",
    "    return m\n",
    "\n",
    "\n",
    "\n",
    "def sort(a):\n",
    "    for i in range(len(a) -1):\n",
    "        for j in range(len(a) -1):\n",
    "            if a[j] > a[j + 1]:\n",
    "                a[j], a[j +1] = a[j +1], a[j]\n",
    "    return a\n",
    "\n",
    "\n",
    "            \n",
    "\n",
    "\n",
    "\n",
    "if __name__ == \"__main__\":\n",
    "    A = [[3,2,1],\n",
    "         [5,4,3],\n",
    "         [8,7,6]]\n",
    "    print(sort_row(A))"
   ]
  },
  {
   "cell_type": "code",
   "execution_count": null,
   "metadata": {},
   "outputs": [],
   "source": []
  }
 ],
 "metadata": {
  "kernelspec": {
   "display_name": "Python 3.10.4 64-bit",
   "language": "python",
   "name": "python3"
  },
  "language_info": {
   "codemirror_mode": {
    "name": "ipython",
    "version": 3
   },
   "file_extension": ".py",
   "mimetype": "text/x-python",
   "name": "python",
   "nbconvert_exporter": "python",
   "pygments_lexer": "ipython3",
   "version": "3.10.4"
  },
  "orig_nbformat": 4,
  "vscode": {
   "interpreter": {
    "hash": "916dbcbb3f70747c44a77c7bcd40155683ae19c65e1c03b4aa3499c5328201f1"
   }
  }
 },
 "nbformat": 4,
 "nbformat_minor": 2
}
