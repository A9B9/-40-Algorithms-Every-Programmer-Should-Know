{
 "cells": [
  {
   "cell_type": "markdown",
   "metadata": {},
   "source": [
    "Important Algorithms For Every Programmer"
   ]
  },
  {
   "cell_type": "markdown",
   "metadata": {},
   "source": [
    "bubble Sort"
   ]
  },
  {
   "cell_type": "code",
   "execution_count": null,
   "metadata": {},
   "outputs": [],
   "source": [
    "\n",
    "# Bubble Sort \n",
    "def bubble_sort(arr:list) -> list:\n",
    "    for i in range(len(arr) - 1):\n",
    "        if arr[i] > arr[i + 1]:\n",
    "            arr[i], arr[i+1] = arr[i+1], arr[i]\n",
    "    return arr\n",
    "\n",
    "\n",
    "# Driver Code \n",
    "if __name__ == '__main__':\n",
    "    arr = [randint(1,100) for i in range(10)]\n",
    "    print(bubble_sort(arr))\n",
    "    "
   ]
  },
  {
   "cell_type": "markdown",
   "metadata": {},
   "source": [
    "Insert Sort"
   ]
  },
  {
   "cell_type": "code",
   "execution_count": null,
   "metadata": {},
   "outputs": [],
   "source": [
    "# Insertion Sort\n",
    "def insert_sort(arr):\n",
    "    for i in range(1, len(arr) - 1):\n",
    "        j = i - 1\n",
    "        element_next = arr[i]\n",
    "        while arr[j] > element_next and j >= 0:\n",
    "             arr[j + 1] = arr[j]\n",
    "             j = j - 1\n",
    "        arr[j+1] = element_next\n",
    "    return arr\n",
    "    \n",
    "    \n",
    "# Driver Code \n",
    "if __name__ == '__main__':\n",
    "    arr = [randint(1,100) for i in range(10)]\n",
    "    print(insert_sort(arr))\n",
    "    "
   ]
  },
  {
   "cell_type": "markdown",
   "metadata": {},
   "source": [
    "Merg Sort"
   ]
  },
  {
   "cell_type": "code",
   "execution_count": null,
   "metadata": {},
   "outputs": [],
   "source": [
    "\n",
    "\n",
    "# Merge Sort\n",
    "def MeargSort(arr):\n",
    "    if len(arr) > 1:\n",
    "        mid = len(arr) // 2\n",
    "        left = arr[:mid]\n",
    "        right = arr[mid:]\n",
    "    \n",
    "        # Dividing The array Till There is one Element in every sub-array\n",
    "        MeargSort(left)\n",
    "        MeargSort(right)\n",
    "    \n",
    "        a = 0\n",
    "        b = 0\n",
    "        c = 0\n",
    "    \n",
    "        # The comparison operation \n",
    "        while a < len(left) and b < len(right):\n",
    "            if left[a] < right[b]:\n",
    "                arr[c] = left[a]\n",
    "                a +=  1 \n",
    "            else:\n",
    "                arr[c] = right[b]\n",
    "                b += 1\n",
    "            c += 1\n",
    "    \n",
    "    # merging The sorted sub-array\n",
    "        while a < len(left):\n",
    "            arr[c] = left[a]\n",
    "            a += 1\n",
    "            c += 1 \n",
    "        while b < len(right):\n",
    "            arr[c] = right[b]\n",
    "            b += 1\n",
    "            c += 1\n",
    "    return arr    \n",
    "  \n",
    "# Driver Code \n",
    "if __name__ == '__main__':\n",
    "    arr = [randint(1,10000) for i in range(100000)]\n",
    "    print(MeargSort(arr))\n",
    "    "
   ]
  },
  {
   "cell_type": "markdown",
   "metadata": {},
   "source": [
    "Shell Sort"
   ]
  },
  {
   "cell_type": "code",
   "execution_count": 6,
   "metadata": {},
   "outputs": [
    {
     "name": "stdout",
     "output_type": "stream",
     "text": [
      "Before Sorting : [5, 29, 66, 41, 38, 53, 8, 12, 81, 72]\n",
      "After Sorting : [5, 8, 12, 29, 38, 41, 53, 66, 72, 81]\n"
     ]
    }
   ],
   "source": [
    "# Shell Sort \n",
    "def shell_sort(arr):\n",
    "    distance = len(arr) // 2\n",
    "    while distance > 0:\n",
    "        for i in range(distance, len(arr)):\n",
    "            temp = arr[i]\n",
    "            j = i\n",
    "            # sort The sublist for this distance \n",
    "            while j >= distance and arr[j - distance] > temp:\n",
    "                arr[j] = arr[j - distance]\n",
    "                j = j -distance\n",
    "            arr[j] = temp\n",
    "        # Reduce Distance for next element  \n",
    "        distance = distance // 2 \n",
    "    return arr\n",
    "\n",
    "# Driver Code \n",
    "if __name__ == '__main__':\n",
    "    arr = [randint(1,100) for i in range(10)]\n",
    "    print(f'Before Sorting : {arr}')\n",
    "    print(f'After Sorting : {shell_sort(arr)}')\n",
    "    "
   ]
  },
  {
   "cell_type": "markdown",
   "metadata": {},
   "source": [
    "Selection Sort"
   ]
  },
  {
   "cell_type": "code",
   "execution_count": null,
   "metadata": {},
   "outputs": [],
   "source": [
    "\n",
    "def selection_sort(arr):\n",
    "    for fill_slot in range(len(arr) - 1, 0, -1 ):\n",
    "        max_index = 0\n",
    "        for location in range(1, fill_slot + 1):\n",
    "            if arr[location] > arr[max_index]:\n",
    "                max_index = location \n",
    "        arr[fill_slot], arr[max_index] = arr[max_index], arr[fill_slot]\n",
    "    return arr\n",
    "\n",
    "\n",
    "# Driver Code \n",
    "if __name__ == '__main__':\n",
    "    arr = [randint(1,100) for i in range(10)]\n",
    "    print(selection_sort(arr))\n",
    "    "
   ]
  },
  {
   "cell_type": "markdown",
   "metadata": {},
   "source": [
    "Linear Search"
   ]
  },
  {
   "cell_type": "code",
   "execution_count": 10,
   "metadata": {},
   "outputs": [
    {
     "name": "stdout",
     "output_type": "stream",
     "text": [
      "True\n"
     ]
    }
   ],
   "source": [
    "# linear Search \n",
    "from random import randint\n",
    "def linear_search(arr, ele):\n",
    "    for i in range(len(arr)):\n",
    "        if arr[i] == ele:\n",
    "            return True \n",
    "    return False\n",
    "\n",
    "\n",
    "\n",
    "# Driver Code \n",
    "if __name__ == '__main__':\n",
    "    arr = [randint(1,100) for i in range(10)]\n",
    "    #arr.append(10)\n",
    "    print(linear_search(arr, 10))\n",
    "    "
   ]
  },
  {
   "cell_type": "markdown",
   "metadata": {},
   "source": [
    "Binary Search"
   ]
  },
  {
   "cell_type": "code",
   "execution_count": 6,
   "metadata": {},
   "outputs": [
    {
     "name": "stdout",
     "output_type": "stream",
     "text": [
      "True\n"
     ]
    }
   ],
   "source": [
    "# Binary Search \n",
    "from random import randint\n",
    "def binary_search(arr, ele):\n",
    "    first = 0\n",
    "    last = len(arr) - 1\n",
    "    found = False\n",
    "    \n",
    "    while first <= last and not found:\n",
    "        mid = (first + last) // 2\n",
    "        if arr[mid] == ele:\n",
    "            found = True \n",
    "        else:\n",
    "            if ele < arr[mid]:\n",
    "                last = mid - 1\n",
    "            else:\n",
    "                first = mid + 1\n",
    "    return found\n",
    "\n",
    "\n",
    "# Driver Code \n",
    "if __name__ == '__main__':\n",
    "    arr = [randint(1,100) for i in range(10)]\n",
    "    #arr.append(90)\n",
    "    print(binary_search(arr, 90))\n",
    "    "
   ]
  },
  {
   "cell_type": "markdown",
   "metadata": {},
   "source": [
    "Interplotion Search\n",
    "-   if evenly distrbuted the preformence of this algorithm is O(log(log n))\n",
    "-   if unevenly distrbuted the preformence of this algorithm is O(n)"
   ]
  },
  {
   "cell_type": "code",
   "execution_count": 22,
   "metadata": {},
   "outputs": [
    {
     "name": "stdout",
     "output_type": "stream",
     "text": [
      "Element Found \n"
     ]
    }
   ],
   "source": [
    "def interpolationSearch(arr, low, high, x):\n",
    "    found = False\n",
    "    if low <= high and x >= arr[low] and x <= arr[high]:\n",
    "        pos = low + ((high - low) // (arr[high] - arr[low]) * (x - arr[low]))\n",
    "        if arr[pos] == x:\n",
    "            found = True\n",
    "            return found\n",
    "        if arr[pos] < x:\n",
    "            return interpolationSearch(arr, pos + 1, low, x)\n",
    "        if arr[pos] > x:\n",
    "            return interpolationSearch(arr, low, pos - 1, x)\n",
    "    return -1 \n",
    "\n",
    "\n",
    "# driver code \n",
    "arr = [1,2,3,4,5,6,7,8,9,10,11,12]\n",
    "found = interpolationSearch(arr, 0, len(arr) - 1, 10)\n",
    "if found:\n",
    "    print(\"Element Found \")\n",
    "else:\n",
    "    print(\"Element Not Found \")"
   ]
  },
  {
   "cell_type": "markdown",
   "metadata": {},
   "source": [
    "Algorithm Design \n"
   ]
  }
 ],
 "metadata": {
  "interpreter": {
   "hash": "af0daa721aaa003a54d13dea8159450ce8d70239956725212cdb6d4e5ec5dd24"
  },
  "kernelspec": {
   "display_name": "Python 3.10.1 64-bit",
   "language": "python",
   "name": "python3"
  },
  "language_info": {
   "codemirror_mode": {
    "name": "ipython",
    "version": 3
   },
   "file_extension": ".py",
   "mimetype": "text/x-python",
   "name": "python",
   "nbconvert_exporter": "python",
   "pygments_lexer": "ipython3",
   "version": "3.10.1"
  },
  "orig_nbformat": 4
 },
 "nbformat": 4,
 "nbformat_minor": 2
}
