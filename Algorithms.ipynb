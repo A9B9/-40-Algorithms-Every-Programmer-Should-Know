{
 "cells": [
  {
   "cell_type": "markdown",
   "metadata": {},
   "source": [
    "Important Algorithms For Every Programmer"
   ]
  },
  {
   "cell_type": "markdown",
   "metadata": {},
   "source": [
    "\"An Algorithm is : a finite set of unambiguous instructions that given some set of initial conditions can be\n",
    "performed in a prescribed sequence to achieve a certain goal and that has a recognizable set\n",
    "of end conditions.\""
   ]
  },
  {
   "cell_type": "markdown",
   "metadata": {},
   "source": [
    "bubble Sort"
   ]
  },
  {
   "cell_type": "code",
   "execution_count": null,
   "metadata": {},
   "outputs": [],
   "source": [
    "\n",
    "# Bubble Sort \n",
    "def bubble_sort(arr:list) -> list:\n",
    "    for i in range(len(arr) - 1):\n",
    "        if arr[i] > arr[i + 1]:\n",
    "            arr[i], arr[i+1] = arr[i+1], arr[i]\n",
    "    return arr\n",
    "\n",
    "\n",
    "# Driver Code \n",
    "if __name__ == '__main__':\n",
    "    arr = [randint(1,100) for i in range(10)]\n",
    "    print(bubble_sort(arr))\n",
    "    "
   ]
  },
  {
   "cell_type": "markdown",
   "metadata": {},
   "source": [
    "Insert Sort"
   ]
  },
  {
   "cell_type": "code",
   "execution_count": null,
   "metadata": {},
   "outputs": [],
   "source": [
    "# Insertion Sort\n",
    "def insert_sort(arr):\n",
    "    for i in range(1, len(arr) - 1):\n",
    "        j = i - 1\n",
    "        element_next = arr[i]\n",
    "        while arr[j] > element_next and j >= 0:\n",
    "             arr[j + 1] = arr[j]\n",
    "             j = j - 1\n",
    "        arr[j+1] = element_next\n",
    "    return arr\n",
    "    \n",
    "    \n",
    "# Driver Code \n",
    "if __name__ == '__main__':\n",
    "    arr = [randint(1,100) for i in range(10)]\n",
    "    print(insert_sort(arr))\n",
    "    "
   ]
  },
  {
   "cell_type": "markdown",
   "metadata": {},
   "source": [
    "Merg Sort"
   ]
  },
  {
   "cell_type": "code",
   "execution_count": null,
   "metadata": {},
   "outputs": [],
   "source": [
    "\n",
    "\n",
    "# Merge Sort\n",
    "def MeargSort(arr):\n",
    "    if len(arr) > 1:\n",
    "        mid = len(arr) // 2\n",
    "        left = arr[:mid]\n",
    "        right = arr[mid:]\n",
    "    \n",
    "        # Dividing The array Till There is one Element in every sub-array\n",
    "        MeargSort(left)\n",
    "        MeargSort(right)\n",
    "    \n",
    "        a = 0\n",
    "        b = 0\n",
    "        c = 0\n",
    "    \n",
    "        # The comparison operation \n",
    "        while a < len(left) and b < len(right):\n",
    "            if left[a] < right[b]:\n",
    "                arr[c] = left[a]\n",
    "                a +=  1 \n",
    "            else:\n",
    "                arr[c] = right[b]\n",
    "                b += 1\n",
    "            c += 1\n",
    "    \n",
    "    # merging The sorted sub-array\n",
    "        while a < len(left):\n",
    "            arr[c] = left[a]\n",
    "            a += 1\n",
    "            c += 1 \n",
    "        while b < len(right):\n",
    "            arr[c] = right[b]\n",
    "            b += 1\n",
    "            c += 1\n",
    "    return arr    \n",
    "  \n",
    "# Driver Code \n",
    "if __name__ == '__main__':\n",
    "    arr = [randint(1,10000) for i in range(100000)]\n",
    "    print(MeargSort(arr))\n",
    "    "
   ]
  },
  {
   "cell_type": "markdown",
   "metadata": {},
   "source": [
    "Shell Sort"
   ]
  },
  {
   "cell_type": "code",
   "execution_count": null,
   "metadata": {},
   "outputs": [],
   "source": [
    "# Shell Sort \n",
    "def shell_sort(arr):\n",
    "    distance = len(arr) // 2\n",
    "    while distance > 0:\n",
    "        for i in range(distance, len(arr)):\n",
    "            temp = arr[i]\n",
    "            j = i\n",
    "            # sort The sublist for this distance \n",
    "            while j >= distance and arr[j - distance] > temp:\n",
    "                arr[j] = arr[j - distance]\n",
    "                j = j -distance\n",
    "            arr[j] = temp\n",
    "        # Reduce Distance for next element  \n",
    "        distance = distance // 2 \n",
    "    return arr\n",
    "\n",
    "# Driver Code \n",
    "if __name__ == '__main__':\n",
    "    arr = [randint(1,100) for i in range(10)]\n",
    "    print(f'Before Sorting : {arr}')\n",
    "    print(f'After Sorting : {shell_sort(arr)}')\n",
    "    "
   ]
  },
  {
   "cell_type": "markdown",
   "metadata": {},
   "source": [
    "Selection Sort"
   ]
  },
  {
   "cell_type": "code",
   "execution_count": null,
   "metadata": {},
   "outputs": [],
   "source": [
    "\n",
    "def selection_sort(arr):\n",
    "    for fill_slot in range(len(arr) - 1, 0, -1 ):\n",
    "        max_index = 0\n",
    "        for location in range(1, fill_slot + 1):\n",
    "            if arr[location] > arr[max_index]:\n",
    "                max_index = location \n",
    "        arr[fill_slot], arr[max_index] = arr[max_index], arr[fill_slot]\n",
    "    return arr\n",
    "\n",
    "\n",
    "# Driver Code \n",
    "if __name__ == '__main__':\n",
    "    arr = [randint(1,100) for i in range(10)]\n",
    "    print(selection_sort(arr))\n",
    "    "
   ]
  },
  {
   "cell_type": "markdown",
   "metadata": {},
   "source": [
    "Linear Search"
   ]
  },
  {
   "cell_type": "code",
   "execution_count": null,
   "metadata": {},
   "outputs": [],
   "source": [
    "# linear Search \n",
    "from random import randint\n",
    "def linear_search(arr, ele):\n",
    "    for i in range(len(arr)):\n",
    "        if arr[i] == ele:\n",
    "            return True \n",
    "    return False\n",
    "\n",
    "\n",
    "\n",
    "# Driver Code \n",
    "if __name__ == '__main__':\n",
    "    arr = [randint(1,100) for i in range(10)]\n",
    "    #arr.append(10)\n",
    "    print(linear_search(arr, 10))\n",
    "    "
   ]
  },
  {
   "cell_type": "markdown",
   "metadata": {},
   "source": [
    "Binary Search"
   ]
  },
  {
   "cell_type": "code",
   "execution_count": null,
   "metadata": {},
   "outputs": [],
   "source": [
    "# Binary Search \n",
    "from random import randint\n",
    "def binary_search(arr, ele):\n",
    "    first = 0\n",
    "    last = len(arr) - 1\n",
    "    found = False\n",
    "    \n",
    "    while first <= last and not found:\n",
    "        mid = (first + last) // 2\n",
    "        if arr[mid] == ele:\n",
    "            found = True \n",
    "        else:\n",
    "            if ele < arr[mid]:\n",
    "                last = mid - 1\n",
    "            else:\n",
    "                first = mid + 1\n",
    "    return found\n",
    "\n",
    "\n",
    "# Driver Code \n",
    "if __name__ == '__main__':\n",
    "    arr = [randint(1,100) for i in range(10)]\n",
    "    #arr.append(90)\n",
    "    print(binary_search(arr, 90))\n",
    "    "
   ]
  },
  {
   "cell_type": "markdown",
   "metadata": {},
   "source": [
    "Interplotion Search\n",
    "-   if evenly distrbuted the preformence of this algorithm is O(log(log n))\n",
    "-   if unevenly distrbuted the preformence of this algorithm is O(n)"
   ]
  },
  {
   "cell_type": "code",
   "execution_count": null,
   "metadata": {},
   "outputs": [],
   "source": [
    "def interpolationSearch(arr, low, high, x):\n",
    "    found = False\n",
    "    if low <= high and x >= arr[low] and x <= arr[high]:\n",
    "        pos = low + ((high - low) // (arr[high] - arr[low]) * (x - arr[low]))\n",
    "        if arr[pos] == x:\n",
    "            found = True\n",
    "            return found\n",
    "        if arr[pos] < x:\n",
    "            return interpolationSearch(arr, pos + 1, low, x)\n",
    "        if arr[pos] > x:\n",
    "            return interpolationSearch(arr, low, pos - 1, x)\n",
    "    return -1 \n",
    "\n",
    "\n",
    "# driver code \n",
    "arr = [1,2,3,4,5,6,7,8,9,10,11,12]\n",
    "found = interpolationSearch(arr, 0, len(arr) - 1, 10)\n",
    "if found:\n",
    "    print(\"Element Found \")\n",
    "else:\n",
    "    print(\"Element Not Found \")"
   ]
  },
  {
   "cell_type": "markdown",
   "metadata": {},
   "source": [
    "Algorithms Design Strategies "
   ]
  },
  {
   "cell_type": "markdown",
   "metadata": {},
   "source": [
    "- The divide-and-conquer strategy\n",
    "- The dynamic programming strategy\n",
    "- The greedy algorithm strategy"
   ]
  },
  {
   "cell_type": "markdown",
   "metadata": {},
   "source": [
    "Solving The TSP(Traveling Sales Man ) Problem using different strategies"
   ]
  },
  {
   "cell_type": "code",
   "execution_count": null,
   "metadata": {},
   "outputs": [],
   "source": [
    "# Brute Force Strategy\n",
    "import random \n",
    "from itertools import permutations\n",
    "from time import process_time\n",
    "from collections import Counter\n",
    "\n",
    "allToures = permutations\n",
    "aCity = complex\n",
    "\n",
    "# Utilty Functions \n",
    "def distance_points(p1, p2):\n",
    "    return abs(p1 - p2)\n",
    "\n",
    "def distance_toure(aToure):\n",
    "    return sum([distance_points(aToure[i -1],aToure[i]) for i in range(len(aToure))])\n",
    "\n",
    "def generate_cities(num_of_cities):\n",
    "    seed = 111; width = 500; height = 300\n",
    "    random.seed(num_of_cities, seed)\n",
    "    return frozenset(aCity(random.randint(1, width), random.randint(1, height)) for c in range(num_of_cities))\n",
    "\n",
    "def shortest_toure(tours):\n",
    "    return min(tours, key=distance_toure)\n",
    "\n",
    "# Visualizing The Cities \n",
    "%matplotlib inline\n",
    "import matplotlib.pyplot as plt\n",
    "def visualize_toure(toure, style='bo-'):\n",
    "    if len(toure) > 1000 : plt.figure(figsize=(15,10))\n",
    "    start = toure[0:1]\n",
    "    visualize_segment(start + toure, style)\n",
    "    visualize_segment(start, 'rD') \n",
    "\n",
    "def visualize_segment(segment, style='bo-'):\n",
    "    plt.plot([X(c) for c in segment], [Y(c) for c in segment], style, clip_on=False)\n",
    "    \n",
    "def X(city): \" X axies\"; return city.real\n",
    "def Y(city): \" Y axies\"; return city.imag\n",
    "\n",
    "def name(algorithm): return algorithm.__name__.replace('__tsp', '')\n",
    "\n",
    "# Algorithms\n",
    "\n",
    "def brute_force(cities):\n",
    "    \" Generate All Possiable tours and return the Shortest \"\n",
    "    return shortest_toure(allToures(cities))\n",
    "\n",
    "def gready_algorithm(cities, start=None):\n",
    "    C = start or first(cities)\n",
    "    tour = [C]\n",
    "    unvisited = set(cities - {C})\n",
    "    while unvisited:\n",
    "        C = nearest_neighbor(C, unvisited)\n",
    "        tour.append(C)\n",
    "        unvisited.remove(C)\n",
    "    return tour\n",
    "\n",
    "def first(collection) : return next(iter(collection))\n",
    "\n",
    "def nearest_neighbor(A, cities):\n",
    "    return min(cities, key=lambda C: distance_points(C, A))\n",
    "\n",
    "# Method to run the Algorithm And Claculate The runnign time \n",
    "def tsp(algorithm, cities):\n",
    "    t0 = process_time()\n",
    "    tour = algorithm(cities)\n",
    "    t1 = process_time()\n",
    "    assert Counter(tour) == Counter(cities)\n",
    "    visualize_toure(tour)\n",
    "    print(\"{} : {} cities => tour length {:.0f} (in {:.3f} sec)\".format(name(algorithm), len(tour), distance_toure(tour), (t1 - t0)))\n",
    "\n",
    "\n",
    "# Driver Code, uncomment and run. \n",
    "\n",
    "# tsp(brute_force, generate_cities(10))\n",
    "# tsp(gready_algorithm, generate_cities(2000))\n",
    "\n"
   ]
  },
  {
   "cell_type": "markdown",
   "metadata": {},
   "source": [
    "The Page Ranking Algorithm "
   ]
  },
  {
   "cell_type": "code",
   "execution_count": null,
   "metadata": {},
   "outputs": [],
   "source": [
    "import numpy as np \n",
    "import networkx as nx \n",
    "import matplotlib.pyplot as plt\n",
    "from random import randint\n",
    "%matplotlib inline \n",
    "\n",
    "# Show Case of a Static Web\n",
    "myWeb = nx.DiGraph()\n",
    "myPages = range(1,5)\n",
    "connections = [(randint(1,5), randint(1,5)) for i in range(1, 10)]\n",
    "myWeb.add_nodes_from(myPages)\n",
    "myWeb.add_edges_from(connections)\n",
    "pos = nx.shell_layout(myWeb)\n",
    "# nx.draw(myWeb, pos, arrows=True, with_labels=True)\n",
    "# plt.show()\n",
    "\n",
    "# Creating The transition Matrix (n x n) sized ,\n",
    "# That Capture The Probablity Of a Vistior Going to the Next Page \n",
    "def createPageRank(aGraph):\n",
    "    node_set = len(aGraph)\n",
    "    M = nx.to_numpy_matrix(aGraph)\n",
    "    outwords = np.squeeze(np.asanyarray(np.sum(M, axis=1)))\n",
    "    prob_outword = np.array([ 1.0/count if  count > 0  else 0.0 for count in outwords], dtype=object)\n",
    "    G = np.asarray(np.multiply(M.T, prob_outword))\n",
    "    P = np.ones(node_set) / float(node_set)\n",
    "    if np.min(np.sum(G, axis=0)) < 1.0:\n",
    "        print(\"WARN: G is substochastic\")\n",
    "    return G, P\n",
    " \n"
   ]
  },
  {
   "cell_type": "markdown",
   "metadata": {},
   "source": [
    "Linear Programming\n",
    "\n",
    "This Desing Approch is used in optimisation problems, \n",
    "The conditions to use linear programming are as follows:\n",
    "- We should be able to formulate the problem through a set of equations.\n",
    "- The variables used in the equation must be linear.\n",
    "\n",
    "Solving an optimisation problem is not a linear process, but the process can be broken down into five general steps:\n",
    "\n",
    "- Getting the problem description\n",
    "- Formulating the mathematical program\n",
    "- Solving the mathematical program\n",
    "- Performing some post-optimal analysis\n",
    "- Presenting the solution and analysis\n"
   ]
  },
  {
   "cell_type": "code",
   "execution_count": null,
   "metadata": {},
   "outputs": [],
   "source": [
    "import pulp\n",
    "\n",
    "# creating an Instance of the Problem \n",
    "model = pulp.LpProblem(\"Profit_Maximaizing_Problem \", pulp.LpMaximize)\n",
    "# Defining the Variables of the problem \n",
    "A = pulp.LpVariable(\"A\", lowBound=0, cat='Integer')\n",
    "B = pulp.LpVariable(\"B\", lowBound=0, cat='Integer')\n",
    "\n",
    "# The Objective Function \n",
    "model += 5000 * A + 2500 * B, \"Profit\"\n",
    "\n",
    "# Constrains\n",
    "model += 3 * A + 2 * B <= 20\n",
    "model += 4 * A + 3 * B <= 30 \n",
    "model += 4 * A + 3 * B <= 44\n",
    "\n",
    "# Solve the Problem \n",
    "model.solve()\n",
    "print(A.varValue)\n",
    "print(B.varValue)\n",
    "print(pulp.value(model.objective))"
   ]
  },
  {
   "cell_type": "markdown",
   "metadata": {},
   "source": [
    "K-mean Algorithm "
   ]
  },
  {
   "cell_type": "code",
   "execution_count": 18,
   "metadata": {},
   "outputs": [
    {
     "data": {
      "image/png": "[encoded data removed]",
      "text/plain": [
       "<Figure size 1440x640 with 1 Axes>"
      ]
     },
     "metadata": {
      "needs_background": "light"
     },
     "output_type": "display_data"
    },
    {
     "name": "stdout",
     "output_type": "stream",
     "text": [
      "[0 0 0 0 0 0 0 0 0 0 0 0 0 1 1 1 1 1 1 0]\n"
     ]
    }
   ],
   "source": [
    "from sklearn import cluster\n",
    "import pandas as pd \n",
    "import numpy as np\n",
    "import matplotlib.pyplot as plt \n",
    "\n",
    "\n",
    "# Define The dataset \n",
    "dataset = pd.DataFrame({\n",
    "    'x': [11, 21, 28, 17, 29, 33, 24, 45, 45, 52, 51, 52, 55, 53,55, 61, 62, 70, 72, 10],\n",
    "    'y': [39, 36, 30, 52, 53, 46, 55, 59, 63, 70, 66, 63, 58, 23,14, 8, 18, 7, 24, 10]\n",
    "})\n",
    "\n",
    "# set The K  value ( number of Clusters)\n",
    "myKmean = cluster.KMeans(n_clusters=2)\n",
    "myKmean.fit(dataset)\n",
    "\n",
    "# initialize the Center of our clusters \n",
    "centeroid = myKmean.cluster_centers_\n",
    "labels = myKmean.labels_\n",
    "\n",
    "# plot The clusters \n",
    "plt.figure(figsize=(18, 8), dpi=80)\n",
    "plt.scatter(dataset[\"x\"], dataset[\"y\"])\n",
    "plt.scatter(centeroid[0], centeroid[1], s=100)\n",
    "plt.show()\n",
    "print(labels)\n"
   ]
  },
  {
   "cell_type": "markdown",
   "metadata": {},
   "source": [
    "The hierarchical clustering Algorithm "
   ]
  },
  {
   "cell_type": "code",
   "execution_count": 19,
   "metadata": {},
   "outputs": [
    {
     "data": {
      "image/png": "[encoded data removed]",
      "text/plain": [
       "<Figure size 1440x640 with 1 Axes>"
      ]
     },
     "metadata": {
      "needs_background": "light"
     },
     "output_type": "display_data"
    },
    {
     "name": "stdout",
     "output_type": "stream",
     "text": [
      "[0 0 0 0 0 0 0 0 0 0 0 0 0 1 1 1 1 1 1 0]\n"
     ]
    }
   ],
   "source": [
    "from sklearn.cluster import AgglomerativeClustering\n",
    "import pandas as pd  \n",
    "import numpy as np \n",
    "import matplotlib.pylab as plt \n",
    "\n",
    "\n",
    "# set The dataset \n",
    "dataset = pd.DataFrame({\n",
    "'x': [11, 21, 28, 17, 29, 33, 24, 45, 45, 52, 51, 52, 55, 53,55, 61, 62, 70, 72, 10],\n",
    "'y': [39, 36, 30, 52, 53, 46, 55, 59, 63, 70, 66, 63, 58, 23,14, 8, 18, 7, 24, 10]\n",
    "})\n",
    "\n",
    "cluster = AgglomerativeClustering(n_clusters=2, affinity='euclidean', linkage='ward')\n",
    "cluster.fit_predict(dataset)\n",
    "\n",
    "plt.figure(figsize=(18, 8), dpi=80)\n",
    "plt.scatter(dataset[\"x\"], dataset[\"y\"])\n",
    "plt.show()\n",
    "print(cluster.labels_)\n"
   ]
  }
 ],
 "metadata": {
  "interpreter": {
   "hash": "08b152a43b990657280b5bd1f6b4d6b9ebb44a72f30ddd67cde5a313bf6c538b"
  },
  "kernelspec": {
   "display_name": "Python 3.9.12 ('base')",
   "language": "python",
   "name": "python3"
  },
  "language_info": {
   "codemirror_mode": {
    "name": "ipython",
    "version": 3
   },
   "file_extension": ".py",
   "mimetype": "text/x-python",
   "name": "python",
   "nbconvert_exporter": "python",
   "pygments_lexer": "ipython3",
   "version": "3.9.12"
  },
  "orig_nbformat": 4
 },
 "nbformat": 4,
 "nbformat_minor": 2
}
