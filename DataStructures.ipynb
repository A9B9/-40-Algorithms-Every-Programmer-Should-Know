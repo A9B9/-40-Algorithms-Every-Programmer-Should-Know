{
 "cells": [
  {
   "cell_type": "code",
   "execution_count": null,
   "metadata": {},
   "outputs": [],
   "source": [
    "from collections import defaultdict\n",
    "\n",
    "class Graph:\n",
    "    def __init__(self):\n",
    "        self.graph = defaultdict(list)\n",
    "    \n",
    "    def addEdge(self, u, v):\n",
    "        self.graph[u].append(v)\n",
    "\n",
    "    def DFSutil(self, visited, v):\n",
    "        visited.add(v)\n",
    "        print(v, end = ' ')\n",
    "        for i in self.graph[v]:\n",
    "            if i not in visited:\n",
    "                self.DFSutil(visited, i)\n",
    "    def DFS(self, v):\n",
    "        visited = set()\n",
    "        self.DFSutil(visited,v)\n",
    "\n",
    "# edges {(0,1),(1,2),(2,3), (0,2), (2,0), (3,3)} from 2\n",
    "# Driver Code \n",
    "g = Graph()\n",
    "g.addEdge(0,1)\n",
    "g.addEdge(1,2)\n",
    "g.addEdge(2,3)\n",
    "g.addEdge(0,2)\n",
    "g.addEdge(2,0)\n",
    "g.addEdge(3,3)\n",
    "g.DFS(2)\n"
   ]
  }
 ],
 "metadata": {
  "kernelspec": {
   "display_name": "Python 3.10.5 64-bit",
   "language": "python",
   "name": "python3"
  },
  "language_info": {
   "codemirror_mode": {
    "name": "ipython",
    "version": 3
   },
   "file_extension": ".py",
   "mimetype": "text/x-python",
   "name": "python",
   "nbconvert_exporter": "python",
   "pygments_lexer": "ipython3",
   "version": "3.10.5"
  },
  "orig_nbformat": 4,
  "vscode": {
   "interpreter": {
    "hash": "e7370f93d1d0cde622a1f8e1c04877d8463912d04d973331ad4851f04de6915a"
   }
  }
 },
 "nbformat": 4,
 "nbformat_minor": 2
}
