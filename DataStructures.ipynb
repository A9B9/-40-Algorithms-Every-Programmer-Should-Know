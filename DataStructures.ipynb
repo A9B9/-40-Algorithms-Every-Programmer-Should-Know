{
 "cells": [
  {
   "cell_type": "code",
   "execution_count": null,
   "metadata": {},
   "outputs": [],
   "source": [
    "from cillections import defaultdict\n",
    "\n",
    "class Graph:\n",
    "    def __init__(self):\n",
    "        self.graph = defaultdict(list())\n",
    "    \n",
    "    def addEdge(self, u, v):\n",
    "        self.graph[u].append(v)\n",
    "\n",
    "    def DFSutil(self, visited, v):\n",
    "        visited.add(v)\n",
    "        print(v, end = ' ')\n",
    "        for i in self.graph[v]:\n",
    "            if i not in visited:\n",
    "                DFSutil(visited, i)\n",
    "    def DFS(self, v):\n",
    "        visited = set()\n",
    "        self.DFSutil(visited,v)\n"
   ]
  }
 ],
 "metadata": {
  "language_info": {
   "name": "python"
  },
  "orig_nbformat": 4
 },
 "nbformat": 4,
 "nbformat_minor": 2
}
