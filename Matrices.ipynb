{
 "cells": [
  {
   "cell_type": "markdown",
   "metadata": {},
   "source": [
    "Matrix Algorithms , Operations  and Properties "
   ]
  },
  {
   "cell_type": "code",
   "execution_count": null,
   "metadata": {},
   "outputs": [],
   "source": [
    "# Computing an approximation for the logrihtm function value(ceiling),that is used for algorithm analysis purpose , (log^b n)\n",
    "def ceil_log(b:int, n:int, c = 0) -> int:\n",
    "    if n != 1:\n",
    "        return ceil_log(b, n // b, c + 1)\n",
    "    return c\n",
    "\n",
    "print(ceil_log(2, 12))"
   ]
  },
  {
   "cell_type": "markdown",
   "metadata": {},
   "source": [
    "# Matrix Traversal"
   ]
  },
  {
   "cell_type": "markdown",
   "metadata": {},
   "source": [
    "Row Major "
   ]
  },
  {
   "cell_type": "markdown",
   "metadata": {},
   "source": [
    "Column Major"
   ]
  },
  {
   "cell_type": "markdown",
   "metadata": {},
   "source": [
    "Zig-Zag"
   ]
  },
  {
   "cell_type": "markdown",
   "metadata": {},
   "source": [
    "# Standard Operations"
   ]
  },
  {
   "cell_type": "markdown",
   "metadata": {},
   "source": [
    "Matrix Rotations"
   ]
  },
  {
   "cell_type": "markdown",
   "metadata": {},
   "source": [
    "Matrix Transpose"
   ]
  },
  {
   "cell_type": "code",
   "execution_count": null,
   "metadata": {},
   "outputs": [],
   "source": [
    "# find Transpose of a Matrix \n",
    "def transpose(m: list) -> list:\n",
    "    C = [[0 for i in range(len(m))] for i in range(len(m[len(m) - 1]))]\n",
    "    for i in range(len(m)):\n",
    "        for j in range(len(m[i])):\n",
    "            C[j][i] = m[i][j]\n",
    "    return C\n",
    "\n",
    "\n",
    "if __name__ == \"__main__\":\n",
    "    A = [[3,2,1],\n",
    "         [5,4,3],\n",
    "         [8,7,6]]\n",
    "    print(transpose(A))"
   ]
  },
  {
   "cell_type": "code",
   "execution_count": null,
   "metadata": {},
   "outputs": [],
   "source": [
    "def sort_row(m):\n",
    "    for  i in range(len(m)):\n",
    "        m[i] = sort(m[i])\n",
    "    return m\n",
    "\n",
    "\n",
    "\n",
    "def sort(a):\n",
    "    for i in range(len(a) -1):\n",
    "        for j in range(len(a) -1):\n",
    "            if a[j] > a[j + 1]:\n",
    "                a[j], a[j +1] = a[j +1], a[j]\n",
    "    return a\n",
    "\n",
    "\n",
    "            \n",
    "\n",
    "\n",
    "\n",
    "if __name__ == \"__main__\":\n",
    "    A = [[3,2,1],\n",
    "         [5,4,3],\n",
    "         [8,7,6]]\n",
    "    print(sort_row(A))"
   ]
  },
  {
   "cell_type": "markdown",
   "metadata": {},
   "source": [
    "# Arthmatic Operations"
   ]
  },
  {
   "cell_type": "markdown",
   "metadata": {},
   "source": [
    "Matrix Multiplication"
   ]
  },
  {
   "cell_type": "code",
   "execution_count": null,
   "metadata": {},
   "outputs": [],
   "source": [
    "\n",
    "def mul(m: list, n: list) -> list:\n",
    "    \n",
    "    cols = len(n[len(n) - 1])\n",
    "    rows = len(m)\n",
    "    if cols == rows:\n",
    "        r = [[0 for i in range(rows)] for j in range(cols)]\n",
    "        for i in range(rows):\n",
    "            for j in range(rows):\n",
    "                for k in range(rows):\n",
    "                    r[i][j] += m[i][k] * n[k][j]\n",
    "        return r\n",
    "    \n",
    "           \n",
    "if __name__ == \"__main__\":\n",
    "    A = [[3,2,1],\n",
    "         [5,4,3],\n",
    "         [8,7,6]]\n",
    "    \n",
    "    B = [[3,2,1],\n",
    "         [5,4,3],\n",
    "         [8,7,6]]\n",
    "    \n",
    "    print(mul(A,B))\n"
   ]
  },
  {
   "cell_type": "markdown",
   "metadata": {},
   "source": [
    "Kronecker Product of two matrices"
   ]
  },
  {
   "cell_type": "code",
   "execution_count": null,
   "metadata": {},
   "outputs": [],
   "source": [
    "def k_multiplication(m, n):\n",
    "    ra = len(m)\n",
    "    ca = len(m[len(m) - 1])\n",
    "    rb = len(m)\n",
    "    cb = len(m[len(m) - 1])\n",
    "    c = [[0 for i in range(ca * cb)] for i in range( ra * rb)]\n",
    "    \n",
    "    for i in range(ra):\n",
    "        for j in range(rb):\n",
    "            for k in range(ca):\n",
    "                for l in range(cb):\n",
    "                    c[i + l + i][j + k + 1] = m[i][j] * n[k][l]\n",
    "    return c\n",
    "            \n",
    "if __name__ == \"__main__\":\n",
    "    A = [[3,2,1],\n",
    "         [5,4,3],\n",
    "         [8,7,6]]\n",
    "    \n",
    "    B = [[3,2,1],\n",
    "         [5,4,3],\n",
    "         [8,7,6]]\n",
    "    \n",
    "    print(k_multiplication(A,B))"
   ]
  },
  {
   "cell_type": "markdown",
   "metadata": {},
   "source": [
    "Matrix addtion"
   ]
  },
  {
   "cell_type": "code",
   "execution_count": null,
   "metadata": {},
   "outputs": [],
   "source": [
    "\n",
    "def add (m, n):\n",
    "    c1,c2,r1,r2 = len(m[len(m) -1]), len(m[len(m) -1]), len(m),len(n)\n",
    "    if (c1 == c2 and r1 == r2):\n",
    "        C = [[0 for i in range(c1)] for j in range(r1)]\n",
    "        for i in range(r1):\n",
    "            for j in range(c1):\n",
    "                C[i][j] = m[i][j] + n[i][j]\n",
    "    return C\n",
    "\n",
    "if __name__ == \"__main__\":\n",
    "    A = [[3,2,1],\n",
    "         [5,4,3],\n",
    "         [8,7,6]]\n",
    "    B = [[3,2,1],\n",
    "         [5,4,3],\n",
    "         [8,7,6]]\n",
    "    print(add(A,B))\n",
    "  "
   ]
  },
  {
   "cell_type": "markdown",
   "metadata": {},
   "source": [
    "Matrix subtraction"
   ]
  },
  {
   "cell_type": "code",
   "execution_count": null,
   "metadata": {},
   "outputs": [],
   "source": [
    "\n",
    "def subtract (m, n):\n",
    "    c1,c2,r1,r2 = len(m[len(m) -1]), len(m[len(m) -1]), len(m),len(n)\n",
    "    if (c1 == c2 and r1 == r2):\n",
    "        C = [[0 for i in range(c1)] for j in range(r1)]\n",
    "        for i in range(r1):\n",
    "            for j in range(c1):\n",
    "                C[i][j] = m[i][j] - n[i][j]\n",
    "    return C\n",
    "\n",
    "if __name__ == \"__main__\":\n",
    "    A = [[3,2,1],\n",
    "         [5,4,3],\n",
    "         [8,7,6]]\n",
    "    B = [[3,2,1],\n",
    "         [5,4,3],\n",
    "         [8,7,6]]\n",
    "    print(subtract(A,B))\n",
    "  "
   ]
  },
  {
   "cell_type": "markdown",
   "metadata": {},
   "source": []
  },
  {
   "cell_type": "code",
   "execution_count": null,
   "metadata": {},
   "outputs": [],
   "source": [
    "def sort_row(m):\n",
    "    for  i in range(len(m)):\n",
    "        m[i] = sort(m[i])\n",
    "    return m\n",
    "\n",
    "\n",
    "\n",
    "def sort(a):\n",
    "    for i in range(len(a) -1):\n",
    "        for j in range(len(a) -1):\n",
    "            if a[j] > a[j + 1]:\n",
    "                a[j], a[j +1] = a[j +1], a[j]\n",
    "    return a\n",
    "\n",
    "\n",
    "            \n",
    "\n",
    "\n",
    "\n",
    "if __name__ == \"__main__\":\n",
    "    A = [[3,2,1],\n",
    "         [5,4,3],\n",
    "         [8,7,6]]\n",
    "    print(sort_row(A))"
   ]
  },
  {
   "cell_type": "code",
   "execution_count": null,
   "metadata": {},
   "outputs": [],
   "source": [
    "def sort_matrix(m):\n",
    "    for i in range(len(m) - 1):\n",
    "        if sum(m[i]) > sum(m[i+1]):\n",
    "            m[i], m[i+1] = m[i+1], m[i]\n",
    "        m[i].sort()\n",
    "    return m\n",
    "\n",
    "\n",
    "\n",
    "if __name__ == \"__main__\":\n",
    "    A = [[3,2,1],\n",
    "         [5,4,3],\n",
    "         [8,7,6]]\n",
    "    print(sort_matrix(A))\n"
   ]
  },
  {
   "cell_type": "markdown",
   "metadata": {},
   "source": [
    "Print all elements in sorted order from row and column wise sorted matrix"
   ]
  },
  {
   "cell_type": "code",
   "execution_count": null,
   "metadata": {},
   "outputs": [],
   "source": [
    "def sort_elements(m):\n",
    "    l = [m[i][j] for i in range(len(m)) for j in range(len(m[i]))]\n",
    "    l.sort()\n",
    "    print(l)\n",
    "    \n",
    "    \n",
    "\n",
    "if __name__ == \"__main__\":\n",
    "    A = [[3,2,1],\n",
    "         [5,4,3],\n",
    "         [8,7,6]]\n",
    "    print(sort_elements(A))\n"
   ]
  },
  {
   "cell_type": "markdown",
   "metadata": {},
   "source": [
    "Find Normal and Trace of a matrix , for square matrix"
   ]
  },
  {
   "cell_type": "code",
   "execution_count": null,
   "metadata": {},
   "outputs": [],
   "source": [
    "import math\n",
    "def trace_normal(m):\n",
    "    normal = 0\n",
    "    trace = 0\n",
    "\n",
    "    for i in range(len(m)):\n",
    "        trace += m[i][i]\n",
    "        for j in range(len(m)):\n",
    "            normal += m[i][j]**2\n",
    "            \n",
    "    normal = math.floor(math.sqrt(normal))\n",
    "    return \"Normal:{} , Trace:{}\".format(normal, trace)\n",
    "\n",
    "# Driver Code \n",
    "if __name__ == \"__main__\":\n",
    "    mat = [[1, 1, 1, 1, 1],\n",
    "           [2, 2, 2, 2, 2],\n",
    "           [3, 3, 3, 3, 3],\n",
    "           [4, 4, 4, 4, 4],\n",
    "           [5, 5, 5, 5, 5]]\n",
    "    print(trace_normal(mat))\n"
   ]
  },
  {
   "cell_type": "markdown",
   "metadata": {},
   "source": [
    "Matrix Identity "
   ]
  },
  {
   "cell_type": "code",
   "execution_count": null,
   "metadata": {},
   "outputs": [],
   "source": [
    "def get_identity(m):\n",
    "    r = len(m)\n",
    "    c = len(m[len(m) - 1])\n",
    "    C = [[0 for i in range(c)] for j in range(r)]\n",
    "    for i in range(r):\n",
    "        C[i][i] = 1\n",
    "    return C\n",
    "\n",
    "def pretty_print(m):\n",
    "    for i in range(len(m)):\n",
    "        print(m[i])\n",
    "\n",
    "# Driver Code \n",
    "if __name__ == \"__main__\":\n",
    "    mat = [[1, 1, 1, 1, 1],\n",
    "           [2, 2, 2, 2, 2],\n",
    "           [3, 3, 3, 3, 3],\n",
    "           [4, 4, 4, 4, 4],\n",
    "           [5, 5, 5, 5, 5]]\n",
    "    pretty_print(get_identity(mat))\n"
   ]
  },
  {
   "cell_type": "markdown",
   "metadata": {},
   "source": [
    "Matrix Diagnols\n"
   ]
  },
  {
   "cell_type": "code",
   "execution_count": null,
   "metadata": {},
   "outputs": [],
   "source": [
    "def main_diagnol(m):\n",
    "    return [m[i][i] for i in range(len(m))]\n",
    "\n",
    "def left_diagnol(m):\n",
    "    return [m[i][i] for i in range(len(m[len(m) - 1]))]\n",
    "\n",
    "\n",
    "# Driver Code \n",
    "if __name__ == \"__main__\":\n",
    "    mat = [[1, 1, 1, 1, 1],\n",
    "           [2, 2, 2, 2, 2],\n",
    "           [3, 3, 3, 3, 3],\n",
    "           [4, 4, 4, 4, 4],\n",
    "           [5, 5, 5, 5, 5]]\n",
    "    print(main_diagnol(mat))\n",
    "    print(left_diagnol(mat))\n"
   ]
  },
  {
   "cell_type": "markdown",
   "metadata": {},
   "source": [
    "Shifting a Matrix "
   ]
  },
  {
   "cell_type": "code",
   "execution_count": null,
   "metadata": {},
   "outputs": [],
   "source": [
    "def shift(m, s):pass"
   ]
  },
  {
   "cell_type": "markdown",
   "metadata": {},
   "source": [
    "Uppper Triangle , Lower Triangle of a Matrix"
   ]
  },
  {
   "cell_type": "code",
   "execution_count": null,
   "metadata": {},
   "outputs": [],
   "source": [
    "def lower_triangle(m):\n",
    "    for i in range(len(m)):\n",
    "        for j in range(len(m)):\n",
    "            if ( i > j):\n",
    "                m[i][j] = 0\n",
    "    return m\n",
    "\n",
    "\n",
    "def upper_triangle(m):\n",
    "    for i in range(len(m)):\n",
    "        for j in range(len(m)):\n",
    "            if ( i < j):\n",
    "                m[i][j] = 0\n",
    "    return m\n",
    "\n",
    "\n",
    "\n",
    "# Driver Code \n",
    "if __name__ == \"__main__\":\n",
    "    mat = [[1, 1, 1, 1, 1],\n",
    "           [2, 2, 2, 2, 2],\n",
    "           [3, 3, 3, 3, 3],\n",
    "           [4, 4, 4, 4, 4],\n",
    "           [5, 5, 5, 5, 5]]\n",
    "   \n",
    "    matl = lower_triangle(mat)\n",
    "    for i in range(len(mat)):\n",
    "        print(matl[i])\n",
    "    print('')\n",
    "    matu = upper_triangle(mat)\n",
    "    for i in range(len(mat)):\n",
    "        print(matu[i])\n",
    "\n"
   ]
  },
  {
   "cell_type": "markdown",
   "metadata": {},
   "source": [
    "Matrix Determinant "
   ]
  },
  {
   "cell_type": "markdown",
   "metadata": {},
   "source": [
    "Matrix Inverse"
   ]
  }
 ],
 "metadata": {
  "kernelspec": {
   "display_name": "Python 3.10.5 64-bit",
   "language": "python",
   "name": "python3"
  },
  "language_info": {
   "codemirror_mode": {
    "name": "ipython",
    "version": 3
   },
   "file_extension": ".py",
   "mimetype": "text/x-python",
   "name": "python",
   "nbconvert_exporter": "python",
   "pygments_lexer": "ipython3",
   "version": "3.10.5"
  },
  "vscode": {
   "interpreter": {
    "hash": "e7370f93d1d0cde622a1f8e1c04877d8463912d04d973331ad4851f04de6915a"
   }
  }
 },
 "nbformat": 4,
 "nbformat_minor": 4
}
