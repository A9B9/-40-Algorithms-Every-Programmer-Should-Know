{
 "cells": [
  {
   "cell_type": "markdown",
   "metadata": {},
   "source": [
    "Matrix Algorithms , Operations  and Properties "
   ]
  },
  {
   "cell_type": "code",
   "execution_count": 10,
   "metadata": {},
   "outputs": [
    {
     "name": "stdout",
     "output_type": "stream",
     "text": [
      "3\n"
     ]
    }
   ],
   "source": [
    "# Computing an approximation for the logrihtm function value(ceiling),that is used for algorithm analysis purpose , (log^b n)\n",
    "def ceil_log(b,n, c = 0):\n",
    "    if n != 1:\n",
    "        return ceil_log(b, n // b, c + 1)\n",
    "    return c\n",
    "\n",
    "print(ceil_log(2, 12))"
   ]
  },
  {
   "cell_type": "code",
   "execution_count": 26,
   "metadata": {},
   "outputs": [
    {
     "name": "stdout",
     "output_type": "stream",
     "text": [
      "[[1, 3, 5, 1, 4], [1, 4, 2, 1, 3], [5, 4, 4, 4, 4], [5, 2, 3, 1, 3], [4, 3, 5, 1, 3]]\n",
      "[[1, 1, 5, 5, 4], [3, 4, 4, 2, 3], [5, 2, 4, 3, 5], [1, 1, 4, 1, 1], [4, 3, 4, 3, 3]]\n",
      "Time elpsed : 74564\n"
     ]
    }
   ],
   "source": [
    "from time import time_ns\n",
    "from random import randint\n",
    "\n",
    "# find Transpose of a Matrix \n",
    "def transpose(m):\n",
    "    for i in range(len(m)):\n",
    "        for j in range(i):\n",
    "            temp = m[i][j]\n",
    "            m[i][j] = m[j][i]\n",
    "            m[j][i] = temp\n",
    "    return m\n",
    "\n",
    "\n",
    "A = [[randint(1,5) for i in range(5)] for j in range(5)]\n",
    "print(A)\n",
    "start = time_ns()\n",
    "print(transpose(A))\n",
    "end = time_ns()\n",
    "print(\"Time elpsed : {}\".format(end - start))"
   ]
  }
 ],
 "metadata": {
  "kernelspec": {
   "display_name": "Python 3.10.4 64-bit",
   "language": "python",
   "name": "python3"
  },
  "language_info": {
   "codemirror_mode": {
    "name": "ipython",
    "version": 3
   },
   "file_extension": ".py",
   "mimetype": "text/x-python",
   "name": "python",
   "nbconvert_exporter": "python",
   "pygments_lexer": "ipython3",
   "version": "3.10.4"
  },
  "orig_nbformat": 4,
  "vscode": {
   "interpreter": {
    "hash": "916dbcbb3f70747c44a77c7bcd40155683ae19c65e1c03b4aa3499c5328201f1"
   }
  }
 },
 "nbformat": 4,
 "nbformat_minor": 2
}
